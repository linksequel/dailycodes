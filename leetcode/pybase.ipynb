{
 "cells": [
  {
   "metadata": {},
   "cell_type": "markdown",
   "source": [
    "# 一周特训思路\n",
    "1. 面向经典面试题寻找手感\n",
    "2. 根据动态规划、等熟悉py3的语法"
   ],
   "id": "d45f4fc614f98f45"
  },
  {
   "metadata": {
    "collapsed": true,
    "ExecuteTime": {
     "end_time": "2025-10-22T15:31:30.846009Z",
     "start_time": "2025-10-22T15:31:30.843647Z"
    }
   },
   "cell_type": "code",
   "source": [
    "from typing import List\n",
    "\n",
    "result = [0] * 5\n",
    "print(result)\n",
    "\n",
    "second = [[0 for i in range(5)] for _ in range(6)]\n",
    "print(second)"
   ],
   "id": "ea7ac76c42c5bb67",
   "outputs": [
    {
     "name": "stdout",
     "output_type": "stream",
     "text": [
      "[0, 0, 0, 0, 0]\n",
      "[[0, 0, 0, 0, 0], [0, 0, 0, 0, 0], [0, 0, 0, 0, 0], [0, 0, 0, 0, 0], [0, 0, 0, 0, 0], [0, 0, 0, 0, 0]]\n"
     ]
    }
   ],
   "execution_count": 9
  },
  {
   "metadata": {
    "ExecuteTime": {
     "end_time": "2025-10-23T03:36:41.228705Z",
     "start_time": "2025-10-23T03:36:41.225218Z"
    }
   },
   "cell_type": "code",
   "source": [
    "import collections\n",
    "ransomNote = \"aa\"\n",
    "magazine = \"aab\"\n",
    "former =  collections.Counter(ransomNote)\n",
    "later  = collections.Counter(magazine)\n",
    "print(former)\n",
    "print(later)\n",
    "print(former + later)"
   ],
   "id": "5e5a02fde9a0dc4a",
   "outputs": [
    {
     "name": "stdout",
     "output_type": "stream",
     "text": [
      "Counter({'a': 2})\n",
      "Counter({'a': 2, 'b': 1})\n",
      "Counter({'a': 4, 'b': 1})\n"
     ]
    }
   ],
   "execution_count": 14
  },
  {
   "metadata": {},
   "cell_type": "markdown",
   "source": "# 字典练习",
   "id": "73375a94fbf661c6"
  },
  {
   "metadata": {
    "ExecuteTime": {
     "end_time": "2025-10-23T11:22:11.277182Z",
     "start_time": "2025-10-23T11:22:11.273441Z"
    }
   },
   "cell_type": "code",
   "source": [
    "tinydict = {'name': 'link', 'age': 18}\n",
    "print(tinydict)\n",
    "#查\n",
    "print(tinydict['name'])\n",
    "#改、增加\n",
    "tinydict['name'] = 'link2'\n",
    "tinydict['new_name'] = 'link33'\n",
    "print(tinydict['name'])\n",
    "print(tinydict['new_name'])\n",
    "#删\n",
    "del tinydict['age']\n",
    "# tinydict.clear()\n",
    "print(tinydict)"
   ],
   "id": "87062baaecbf8b1d",
   "outputs": [
    {
     "name": "stdout",
     "output_type": "stream",
     "text": [
      "{'name': 'link', 'age': 18}\n",
      "link\n",
      "link2\n",
      "link33\n",
      "{'name': 'link2', 'new_name': 'link33'}\n"
     ]
    }
   ],
   "execution_count": 24
  },
  {
   "metadata": {
    "ExecuteTime": {
     "end_time": "2025-10-23T12:50:51.486758Z",
     "start_time": "2025-10-23T12:50:51.484141Z"
    }
   },
   "cell_type": "code",
   "source": [
    "list = [0,1,2,3,4,5]\n",
    "print(list[0::-1])"
   ],
   "id": "d533df8469bb3eae",
   "outputs": [
    {
     "name": "stdout",
     "output_type": "stream",
     "text": [
      "[0]\n"
     ]
    }
   ],
   "execution_count": 26
  },
  {
   "metadata": {
    "ExecuteTime": {
     "end_time": "2025-10-23T14:23:31.535819Z",
     "start_time": "2025-10-23T14:23:31.532230Z"
    }
   },
   "cell_type": "code",
   "source": [
    "list1 = []\n",
    "print(not list1)"
   ],
   "id": "65bcafaa32337b57",
   "outputs": [
    {
     "name": "stdout",
     "output_type": "stream",
     "text": [
      "True\n"
     ]
    }
   ],
   "execution_count": 28
  }
 ],
 "metadata": {
  "kernelspec": {
   "display_name": "Python 3",
   "language": "python",
   "name": "python3"
  },
  "language_info": {
   "codemirror_mode": {
    "name": "ipython",
    "version": 2
   },
   "file_extension": ".py",
   "mimetype": "text/x-python",
   "name": "python",
   "nbconvert_exporter": "python",
   "pygments_lexer": "ipython2",
   "version": "2.7.6"
  }
 },
 "nbformat": 4,
 "nbformat_minor": 5
}
