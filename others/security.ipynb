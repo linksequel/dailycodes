{
 "cells": [
  {
   "cell_type": "code",
   "execution_count": 1,
   "metadata": {},
   "outputs": [
    {
     "name": "stdout",
     "output_type": "stream",
     "text": [
      "5483 is a prime number.\n"
     ]
    }
   ],
   "source": [
    "#判断是不是质数\n",
    "def is_prime(n):\n",
    "    if n < 2:\n",
    "        return False\n",
    "    if n == 2:\n",
    "        return True\n",
    "    if n % 2 == 0:\n",
    "        return False\n",
    "    for i in range(3, int(n**0.5)+1, 2):\n",
    "        if n % i == 0:\n",
    "            return False\n",
    "    return True\n",
    "\n",
    "num = 5483\n",
    "if is_prime(num):\n",
    "    print(f\"{num} is a prime number.\")\n",
    "else:\n",
    "    print(f\"{num} is not a prime number.\")"
   ]
  },
  {
   "cell_type": "code",
   "execution_count": 2,
   "metadata": {},
   "outputs": [
    {
     "name": "stdout",
     "output_type": "stream",
     "text": [
      "1010101101011\n",
      "13\n",
      "4096\n"
     ]
    }
   ],
   "source": [
    "#十进制转2\n",
    "decimal_number = 5483\n",
    "binary_number = bin(decimal_number)[2:]\n",
    "print(binary_number)\n",
    "print(len(binary_number))\n",
    "print(pow(2,12))"
   ]
  },
  {
   "cell_type": "code",
   "execution_count": 34,
   "metadata": {},
   "outputs": [
    {
     "name": "stdout",
     "output_type": "stream",
     "text": [
      "      928374827= 12  *  72405483  +  59509031\n",
      "       72405483=  1  *  59509031  +  12896452\n",
      "       59509031=  4  *  12896452  +   7923223\n",
      "       12896452=  1  *   7923223  +   4973229\n",
      "        7923223=  1  *   4973229  +   2949994\n",
      "        4973229=  1  *   2949994  +   2023235\n",
      "        2949994=  1  *   2023235  +    926759\n",
      "        2023235=  2  *    926759  +    169717\n",
      "         926759=  5  *    169717  +     78174\n",
      "         169717=  2  *     78174  +     13369\n",
      "          78174=  5  *     13369  +     11329\n",
      "          13369=  1  *     11329  +      2040\n",
      "          11329=  5  *      2040  +      1129\n",
      "           2040=  1  *      1129  +       911\n",
      "           1129=  1  *       911  +       218\n",
      "            911=  4  *       218  +        39\n",
      "            218=  5  *        39  +        23\n",
      "             39=  1  *        23  +        16\n",
      "             23=  1  *        16  +         7\n",
      "             16=  2  *         7  +         2\n",
      "              7=  3  *         2  +         1\n",
      "              2=  2  *         1  +         0\n",
      "gcd(928374827, 72405483) = 1\n"
     ]
    }
   ],
   "source": [
    "def gcd(a, b):\n",
    "    if a == 0:\n",
    "        return b\n",
    "    if b == 0:\n",
    "        return -1 \n",
    "    while b > 0:\n",
    "        r = a % b\n",
    "        print(f'{a:>15}={a//b:>3}  *{b:>10}  +{r:>10}')\n",
    "        a, b = b, r\n",
    "    return a\n",
    "print(\"gcd(928374827, 72405483) = %s\" % gcd(928374827, 72405483))"
   ]
  },
  {
   "cell_type": "code",
   "execution_count": 41,
   "metadata": {},
   "outputs": [
    {
     "name": "stdout",
     "output_type": "stream",
     "text": [
      "4\n"
     ]
    }
   ],
   "source": [
    "def gcd_myself(a, b):\n",
    "    if a == 0:\n",
    "        return b\n",
    "    if b == 0:\n",
    "        return -1\n",
    "    #最后一个(a, b)是手写的最后一步的下一步，方便作为循环退出条件\n",
    "    while b > 0:\n",
    "        #a = 商 * b + r\n",
    "        r = a % b\n",
    "        #等式右边的a一直是被除数，b一直是除数\n",
    "        #新的被除数a是旧的除数b\n",
    "        #新的除数b是旧的除数r\n",
    "        a, b = b, r\n",
    "    return a\n",
    "\n",
    "res = gcd_myself(0, 4)\n",
    "print(res)"
   ]
  },
  {
   "cell_type": "code",
   "execution_count": 40,
   "metadata": {},
   "outputs": [
    {
     "name": "stdout",
     "output_type": "stream",
     "text": [
      "k1=0\n",
      "k2=1\n",
      "0 * 0 + 1 * 911 = 911\n"
     ]
    }
   ],
   "source": [
    "def ext_euclid(a, b):\n",
    "    old_s, s = 1, 0\n",
    "    old_t, t = 0, 1\n",
    "    old_r, r = a, b\n",
    "    if b == 0:\n",
    "        return 1, 0, a\n",
    "    else:\n",
    "        while(r != 0):\n",
    "            q = old_r // r\n",
    "            old_r, r = r, old_r-q*r\n",
    "            old_s, s = s, old_s-q*s\n",
    "            old_t, t = t, old_t-q*t\n",
    "    return old_s, old_t, old_r\n",
    "\n",
    "def extend_gcd_myself(a, b):\n",
    "\n",
    "    \n",
    "    return 1111, 1111\n",
    "\n",
    "def verify_entended_gcd(a, b):\n",
    "    k1, k2, gcd = ext_euclid(a, b)\n",
    "    # gcd = gcd_myself(a, b)\n",
    "    # k1, k2 = extend_gcd_myself(a, b)\n",
    "    print(\"k1=%s\" % k1)\n",
    "    print(\"k2=%s\" % k2)\n",
    "    print(f'{k1} * {a} + {k2} * {b} = {gcd}')\n",
    "\n",
    "verify_entended_gcd(0, 911)"
   ]
  },
  {
   "cell_type": "markdown",
   "metadata": {},
   "source": [
    "Square and Multiply Algorithm\n",
    "\n",
    "for $$a^{e}=n$$\n",
    "let the binary representation of e be $$(e_{t-1}e_{t-2}……e_1e_0)$$\n"
   ]
  },
  {
   "cell_type": "code",
   "execution_count": 52,
   "metadata": {},
   "outputs": [
    {
     "name": "stdout",
     "output_type": "stream",
     "text": [
      "exponetiation binary is  1111\n",
      "--------------------------------------------------\n",
      "first step z*z=1*1, (1*1)%13=1\n",
      "current number hits 1, then z*a=1*11, (1*11)%13=11\n",
      "--------------------------------------------------\n",
      "first step z*z=11*11, (11*11)%13=4\n",
      "current number hits 1, then z*a=4*11, (4*11)%13=5\n",
      "--------------------------------------------------\n",
      "first step z*z=5*5, (5*5)%13=12\n",
      "current number hits 1, then z*a=12*11, (12*11)%13=2\n",
      "--------------------------------------------------\n",
      "first step z*z=2*2, (2*2)%13=4\n",
      "current number hits 1, then z*a=4*11, (4*11)%13=5\n",
      "--------------------------------------------------\n",
      "final result is  5\n"
     ]
    }
   ],
   "source": [
    "def squre_multiply(a, e, n):\n",
    "    z = 1\n",
    "    binary = bin(e)[2:]\n",
    "    print(\"exponetiation binary is \", binary)\n",
    "    print(\"-\" * 50)\n",
    "    for i in binary:\n",
    "        first_recorder = z\n",
    "        z = (z * z) % n\n",
    "        print(f\"first step z*z={first_recorder}*{first_recorder}, ({first_recorder}*{first_recorder})%{n}={z}\")\n",
    "        if i == '1':\n",
    "            second_recorder = z\n",
    "            z = (z * a) % n \n",
    "            print(f\"current number hits 1, then z*a={second_recorder}*{a}, ({second_recorder}*{a})%{n}={z}\")\n",
    "        else:\n",
    "            print(\"currnet number is 0, skips\")\n",
    "        print(\"-\" * 50)\n",
    "         \n",
    "    return z\n",
    "\n",
    "print(\"final result is \", squre_multiply(11, 15, 13))"
   ]
  },
  {
   "cell_type": "code",
   "execution_count": 55,
   "metadata": {},
   "outputs": [
    {
     "name": "stdout",
     "output_type": "stream",
     "text": [
      "final result is  5\n"
     ]
    }
   ],
   "source": [
    "def squre_multiply(a, e, n):\n",
    "    z = 1\n",
    "    binary = bin(e)[2:]\n",
    "    for i in binary:\n",
    "        z = (z * z) % n\n",
    "        if i == '1':\n",
    "            z = (z * a) % n \n",
    "    return z\n",
    "\n",
    "print(\"final result is \", squre_multiply(11, 15, 13))"
   ]
  },
  {
   "cell_type": "code",
   "execution_count": 30,
   "metadata": {},
   "outputs": [
    {
     "data": {
      "text/plain": [
       "0"
      ]
     },
     "execution_count": 30,
     "metadata": {},
     "output_type": "execute_result"
    }
   ],
   "source": [
    "0%99"
   ]
  },
  {
   "cell_type": "code",
   "execution_count": null,
   "metadata": {},
   "outputs": [],
   "source": []
  }
 ],
 "metadata": {
  "kernelspec": {
   "display_name": "base",
   "language": "python",
   "name": "python3"
  },
  "language_info": {
   "codemirror_mode": {
    "name": "ipython",
    "version": 3
   },
   "file_extension": ".py",
   "mimetype": "text/x-python",
   "name": "python",
   "nbconvert_exporter": "python",
   "pygments_lexer": "ipython3",
   "version": "3.12.2"
  }
 },
 "nbformat": 4,
 "nbformat_minor": 2
}
