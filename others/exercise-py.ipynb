{
 "cells": [
  {
   "cell_type": "markdown",
   "metadata": {},
   "source": [
    "三个双引号多行注释\n",
    "\n",
    "range([start, stop), step)\n",
    "\n",
    "start：可选参数，起始值，默认为 0。 \n",
    "\n",
    "stop：必选参数，结束值，但生成的序列不包含这个值。\n",
    "\n",
    "step：可选参数，步长，默认为 1。"
   ]
  },
  {
   "cell_type": "code",
   "execution_count": 3,
   "metadata": {},
   "outputs": [
    {
     "name": "stdout",
     "output_type": "stream",
     "text": [
      "5\n",
      "this is f1 0, f1+1=1\n",
      "this is f2 0\n",
      "this is f3 0\n",
      "this is f1 1, f1+1=2\n",
      "this is f2 1\n",
      "this is f3 1\n",
      "this is f1 2, f1+1=3\n",
      "this is f2 2\n",
      "this is f3 2\n",
      "this is f1 3, f1+1=4\n",
      "this is f2 3\n",
      "this is f3 3\n",
      "this is f1 4, f1+1=5\n",
      "this is f2 4\n",
      "this is f3 4\n"
     ]
    }
   ],
   "source": [
    "list = [1,2,3,4,5]\n",
    "print(len(list))\n",
    "for i in range(len(list)):\n",
    "    print(\"this is f1 {}, f1+1={}\".format(i, i+1))\n",
    "    print(f\"this is f2 {i}\")\n",
    "    print(\"this is f3 %d\" % i)"
   ]
  },
  {
   "cell_type": "code",
   "execution_count": null,
   "metadata": {},
   "outputs": [],
   "source": [
    "\"\"\"\n",
    "在 print() 函数中设置 end 参数：\n",
    "默认情况下，end='\\n'，表示输出后换行。如果将其设置为其他值，就可以改变输出后的行为。\n",
    "例如，设置 end='' 表示输出后不换行。\n",
    "\"\"\"\n",
    "# 输出：2、3、4, 步长为1\n",
    "for i in range(2, 5):\n",
    "    print(\"this is example %d->\" % i, end = \"\")\n",
    "    \n",
    "print()\n",
    "\n",
    "# 输出：1、3、5、7、9，步长2\n",
    "for i in range(1, 10, 2):\n",
    "    print(i)"
   ]
  },
  {
   "cell_type": "markdown",
   "metadata": {},
   "source": [
    "切片操作\n",
    "\n",
    "一开始只有[start, stop)\n",
    "\n",
    "当start或stop超出上文提到的有效索引范围​时，切片操作不会抛出异常，而是进行截断。可以这样去理解截断机制：我们假象把索引范围扩充到全体整数，只不过小于​或大于​的区域对应空元素，在这个扩充后的数轴上进行切片，只需把最终结果中的所有空元素忽略即可。"
   ]
  },
  {
   "cell_type": "code",
   "execution_count": null,
   "metadata": {},
   "outputs": [],
   "source": [
    "sub = list(range(10))\n",
    "#[start:stop) stop闭区间, 左闭右开\n",
    "print(sub[:5])\n",
    "print(sub[5:])\n",
    "print(sub[2:8])\n",
    "#下标可以为负数，取负数\n",
    "print(sub[-1])\n",
    "print(sub[-10])\n",
    "print(sub[-5:9])\n",
    "print(sub[-100:9])"
   ]
  },
  {
   "cell_type": "markdown",
   "metadata": {},
   "source": [
    "早期的Python解释器仅支持上述a[start:stop]形式的基本切片，后来加入了下面要介绍的切片形式，扩展切片的名称也流传下来.\n",
    "\n",
    "扩展切片指的是这样的切片形式：a[start:stop:step]，从start对应的位置出发，以step(非0)为步长索引序列，越过stop对应的位置，且不包括stop本身\n",
    "\n",
    "直至。事实上，简单切片就是step=1的扩展切片的特殊情况。需要详细解释的是step分别为正数和负数的两种情况。\n",
    "\n",
    "当step为负数时，切片将其解释为从start出发以步长|step|逆序索引序列，\n",
    "\n",
    "start->            \n",
    "stop<-\n",
    "\n",
    "此时，start和stop的截断依然遵循前述规则，但缺省发生一点变化，按照扩充索引范围的观点，start的缺省值是无穷大(​)，stop的缺省值是无穷小(​)\n",
    "\n",
    "因为我们说过，在缺省的情况下，Python的行为是尽可能取最大区间，此时访问是逆序的，start应尽量取大，stop应尽量取小，才能保证区间最大，因此："
   ]
  },
  {
   "cell_type": "code",
   "execution_count": null,
   "metadata": {},
   "outputs": [],
   "source": [
    "#step为正数\n",
    "print(sub)\n",
    "print(\"step为正数:\")\n",
    "#省略start\\stop\n",
    "print(sub[::2])\n",
    "print(sub[:-2:2])\n",
    "print(sub[4::2])\n",
    "print(\"step为负数:\")\n",
    "print(sub[5::-1])\n",
    "print(sub[:4:-2])\n",
    "print(sub[::-1])\n",
    "\n",
    "#配合其他函数组合使用\n",
    "print(min(sub[3::-1]))\n",
    "print(max(sub[1:]))"
   ]
  },
  {
   "cell_type": "code",
   "execution_count": null,
   "metadata": {},
   "outputs": [],
   "source": [
    "from datetime import datetime\n",
    "current_time = datetime.now()\n",
    "formatted_time = current_time.strftime('%Y%m%d%H%M')\n",
    "print(formatted_time)\n",
    "first = f\"{formatted_time}-1.pdf\"\n",
    "print(first)"
   ]
  },
  {
   "cell_type": "markdown",
   "metadata": {},
   "source": [
    "# 泊松分布"
   ]
  },
  {
   "cell_type": "code",
   "execution_count": 4,
   "metadata": {},
   "outputs": [
    {
     "name": "stdout",
     "output_type": "stream",
     "text": [
      "10.082%\n"
     ]
    }
   ],
   "source": [
    "from scipy.stats import poisson\n",
    "\n",
    "lambda_value = 3\n",
    "k_value = 5\n",
    "\n",
    "probability = poisson.pmf(k_value, lambda_value)\n",
    "print(f'{probability * 100:.3f}%')"
   ]
  },
  {
   "cell_type": "code",
   "execution_count": 6,
   "metadata": {},
   "outputs": [
    {
     "name": "stdout",
     "output_type": "stream",
     "text": [
      "3\n",
      "[1, 2, 3]\n",
      "[[1 2 3]\n",
      " [4 5 6]]\n"
     ]
    }
   ],
   "source": [
    "import numpy as np\n",
    "a1 = [0,1,2,3,4]\n",
    "t = np.hstack(a1[1:4])\n",
    "another = a1[1:4]\n",
    "print(len(t))\n",
    "print(another)\n",
    "\n",
    "# 创建二维数组\n",
    "arr2 = np.array([[1, 2, 3], [4, 5, 6]])\n",
    "print(arr2)"
   ]
  },
  {
   "cell_type": "code",
   "execution_count": 16,
   "metadata": {},
   "outputs": [
    {
     "name": "stdout",
     "output_type": "stream",
     "text": [
      "[[ 0  1  2  3]\n",
      " [ 4  5  6  7]\n",
      " [ 8  9 10 11]]\n",
      "[0 1 2 3 4 5 6 7]\n"
     ]
    }
   ],
   "source": [
    "# 创建一个从 0 到 11 的一维数组，然后重塑为 3 行 4 列的二维数组\n",
    "arr1 = np.arange(12).reshape(3, 4)  \n",
    "print(arr1)\n",
    "print(np.hstack(arr1[0:2]))\n",
    "\n",
    "# d = np.array([[1, 2], [3, 4]])\n",
    "# e = np.array([[5, 6], [7, 8]])\n",
    "# f = np.hstack((d, e))\n",
    "# print(f)\n",
    "# [[1 2 5 6]\n",
    "#  [3 4 7 8]]"
   ]
  }
 ],
 "metadata": {
  "kernelspec": {
   "display_name": "base",
   "language": "python",
   "name": "python3"
  },
  "language_info": {
   "codemirror_mode": {
    "name": "ipython",
    "version": 3
   },
   "file_extension": ".py",
   "mimetype": "text/x-python",
   "name": "python",
   "nbconvert_exporter": "python",
   "pygments_lexer": "ipython3",
   "version": "3.12.2"
  }
 },
 "nbformat": 4,
 "nbformat_minor": 2
}
