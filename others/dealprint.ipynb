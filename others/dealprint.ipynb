{
 "cells": [
  {
   "cell_type": "markdown",
   "metadata": {},
   "source": [
    "# 应用程序里面的打印拆分的原代码，方便调试"
   ]
  },
  {
   "cell_type": "code",
   "execution_count": null,
   "metadata": {},
   "outputs": [],
   "source": [
    "import os\n",
    "import PyPDF2\n",
    "from pathlib import Path\n",
    "import sys\n",
    "from datetime import datetime\n",
    "\n",
    "def process_pdf(input_path):\n",
    "    # 创建输出目录如果不存在\n",
    "    output_dir = Path('/Users/sequel/Documents/dealpdf')\n",
    "    output_dir.mkdir(parents=True, exist_ok=True)\n",
    "\n",
    "    # 打开输入的 PDF 文件\n",
    "    with open(input_path, 'rb') as in_file:\n",
    "        pdf_reader = PyPDF2.PdfReader(in_file)\n",
    "        num_pages = len(pdf_reader.pages)\n",
    "        if num_pages % 2 == 1:\n",
    "            print(\"现在是奇数页，请将打印机出来的第一张纸原封另外放置\") \n",
    "\n",
    "        # 创建偶数页和新奇数页的 PDF 写入器\n",
    "        even_writer = PyPDF2.PdfWriter()\n",
    "        new_odd_writer = PyPDF2.PdfWriter()\n",
    "\n",
    "        # 处理偶数页\n",
    "        for i in range(0, num_pages, 2):\n",
    "            even_writer.add_page(pdf_reader.pages[i])\n",
    "\n",
    "        # 处理奇数页并逆序\n",
    "        odd_start = num_pages - 2 if num_pages % 2 == 1 else num_pages - 1\n",
    "        for i in range(odd_start, 0, -2):\n",
    "            # print(\"逆序下标\", i)\n",
    "            new_odd_writer.add_page(pdf_reader.pages[i])\n",
    "\n",
    "        current_time = datetime.now()\n",
    "        formatted_time = current_time.strftime('%Y%m%d%H%M')\n",
    "        first = f\"{formatted_time}-1.pdf\"\n",
    "        second = f\"{formatted_time}-2.pdf\"\n",
    "\n",
    "        # 保存偶数页文件\n",
    "        even_output_path = output_dir / first\n",
    "        with open(even_output_path, 'wb') as even_out_file:\n",
    "            even_writer.write(even_out_file)\n",
    "\n",
    "        # 保存新奇数页文件\n",
    "        new_odd_output_path = output_dir / second\n",
    "        with open(new_odd_output_path, 'wb') as new_odd_out_file:\n",
    "            new_odd_writer.write(new_odd_out_file)\n",
    "\n",
    "if __name__ == \"__main__\":\n",
    "    if len(sys.argv)!= 2:\n",
    "        print(\"请提供 PDF 文件路径作为参数\")\n",
    "    else:\n",
    "        input_pdf_path = sys.argv[1]\n",
    "        process_pdf(input_pdf_path)"
   ]
  },
  {
   "cell_type": "code",
   "execution_count": 23,
   "metadata": {},
   "outputs": [
    {
     "name": "stdout",
     "output_type": "stream",
     "text": [
      "正在现有浏览器会话中打开。\n"
     ]
    },
    {
     "data": {
      "text/plain": [
       "CompletedProcess(args=['/Applications/Microsoft Edge.app/Contents/MacOS/Microsoft Edge', '/Users/sequel/linkcodes/homework/network/2024_cs5222_programming_assignment.pdf'], returncode=0)"
      ]
     },
     "execution_count": 23,
     "metadata": {},
     "output_type": "execute_result"
    }
   ],
   "source": [
    "import subprocess\n",
    "edge_path = \"/Applications/Microsoft Edge.app/Contents/MacOS/Microsoft Edge\"\n",
    "pdf_file = \"/Users/sequel/linkcodes/homework/network/2024_cs5222_programming_assignment.pdf\"\n",
    "\n",
    "# 使用Edge打开PDF文件\n",
    "subprocess.run([edge_path, pdf_file])"
   ]
  },
  {
   "cell_type": "code",
   "execution_count": 16,
   "metadata": {},
   "outputs": [
    {
     "name": "stdout",
     "output_type": "stream",
     "text": [
      "PDF合成完成，输出文件为 output.pdf\n"
     ]
    }
   ],
   "source": [
    "from PyPDF2 import PdfReader, PdfWriter, Transformation\n",
    "\n",
    "input_pdf_path = \"input.pdf\"\n",
    "output_pdf_path = \"output.pdf\"\n",
    "\n",
    "# 开启PDF文档读写\n",
    "reader = PdfReader(input_pdf_path)\n",
    "writer = PdfWriter()\n",
    "\n",
    "# 定义每页的子页面数\n",
    "n_per_page = 4  # 如需2合1，请设置为2\n",
    "\n",
    "# 根据合成一页中的子页面数决定每行、每列的数量\n",
    "cols = 2\n",
    "rows = 2 if n_per_page == 4 else 1\n",
    "\n",
    "# 页面尺寸，这里使用A4尺寸\n",
    "page_width = 595\n",
    "page_height = 842\n",
    "\n",
    "# 创建新页面，按需求合并旧页面\n",
    "new_page = None\n",
    "for index, page in enumerate(reader.pages):\n",
    "    if index % n_per_page == 0:\n",
    "        if new_page:\n",
    "            writer.add_page(new_page)\n",
    "        new_page = writer.add_blank_page(width=page_width, height=page_height)\n",
    "    \n",
    "    # 计算每个子页面的位置和缩放\n",
    "    col = (index % n_per_page) % cols\n",
    "    row = (index % n_per_page) // cols\n",
    "\n",
    "    # 计算缩放比例和偏移量\n",
    "    scale = 0.5  # 假设每个子页面缩小到原来的50%\n",
    "    x_offset = page_width * col * scale\n",
    "    y_offset = page_height * (1 - (row + 1) * scale)  # 从页面顶部开始\n",
    "\n",
    "    # 创建变换\n",
    "    transformation = Transformation().scale(scale, scale).translate(x_offset, y_offset)\n",
    "    # 应用变换到原始页面\n",
    "    page.add_transformation(transformation)\n",
    "    # 将变换后的页面合并到新页面\n",
    "    new_page.merge_page(page)\n",
    "\n",
    "# 添加最后一页\n",
    "if new_page:\n",
    "    writer.add_page(new_page)\n",
    "\n",
    "# 保存输出PDF\n",
    "with open(output_pdf_path, \"wb\") as f_out:\n",
    "    writer.write(f_out)\n",
    "\n",
    "print(f\"PDF合成完成，输出文件为 {output_pdf_path}\")"
   ]
  },
  {
   "cell_type": "code",
   "execution_count": 4,
   "metadata": {},
   "outputs": [
    {
     "data": {
      "text/plain": [
       "(True, <_io.FileIO [closed]>)"
      ]
     },
     "execution_count": 4,
     "metadata": {},
     "output_type": "execute_result"
    }
   ],
   "source": [
    "from PyPDF2 import PdfWriter, PdfReader\n",
    "\n",
    "reader = PdfReader(\"example.pdf\")\n",
    "writer = PdfWriter()\n",
    "\n",
    "page = reader.pages[0]\n",
    "\n",
    "# Scale\n",
    "page.scale_by(0.25)\n",
    "\n",
    "# Write the result to a file\n",
    "writer = PdfWriter()\n",
    "writer.add_page(page)\n",
    "writer.write(\"out.pdf\")"
   ]
  }
 ],
 "metadata": {
  "kernelspec": {
   "display_name": "base",
   "language": "python",
   "name": "python3"
  },
  "language_info": {
   "codemirror_mode": {
    "name": "ipython",
    "version": 3
   },
   "file_extension": ".py",
   "mimetype": "text/x-python",
   "name": "python",
   "nbconvert_exporter": "python",
   "pygments_lexer": "ipython3",
   "version": "3.12.2"
  }
 },
 "nbformat": 4,
 "nbformat_minor": 2
}
