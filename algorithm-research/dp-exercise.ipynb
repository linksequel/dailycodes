{
 "cells": [
  {
   "cell_type": "markdown",
   "metadata": {},
   "source": [
    "Example 3- Gone Fishing\n",
    "- There are n fishing lakes on a line\n",
    "- Labeled 1, 2, 3， ... n from left to right\n",
    "- H hours' fishing time\n",
    "- Start from lake 1\n",
    "- 5*T,minutes to reach lake i+ 1 from lake i\n",
    "- At the same lake i\n",
    "- The first 5 minutes can produce F; fishes\n",
    "- Every 5 minutes more will see a decrease of D;in the\n",
    "number offishes produced\n",
    "\n",
    "How to get the maximum number of fishes？"
   ]
  },
  {
   "cell_type": "markdown",
   "metadata": {},
   "source": [
    "Example:\n",
    "\n",
    "- 湖泊数量  n = 3 \n",
    "- 钓鱼时间  H = 5  小时\n",
    "- 到达每个湖泊的时间  T = [0, 1, 1]  小时（这里第一个元素是 0 因为我们从湖泊 1 开始）\n",
    "- 每个湖泊开始的钓鱼收益  F = [10, 15, 20]  条鱼\n",
    "- 每个湖泊钓鱼递减值  D = [1, 2, 3]  条鱼"
   ]
  },
  {
   "cell_type": "code",
   "execution_count": 4,
   "metadata": {},
   "outputs": [
    {
     "name": "stdout",
     "output_type": "stream",
     "text": [
      "[0, 0, 5]\n",
      "最大可钓鱼数: 196\n"
     ]
    }
   ],
   "source": [
    "#错误的解答\n",
    "def max_fish(n, H, T, F, D):\n",
    "    # 总时间转换为分钟\n",
    "    total_minutes = H * 60\n",
    "    \n",
    "    # 计算到达每个湖泊需要的时间\n",
    "    travel_time = [0] * n\n",
    "    for i in range(1, n):\n",
    "        travel_time[i] = travel_time[i-1] + T[i-1] * 5\n",
    "    print(travel_time)\n",
    "    \n",
    "    # 初始化动态规划表格，加1是为了方便处理边界情况\n",
    "    dp = [[0] * (total_minutes + 1) for _ in range(n)]\n",
    "    \n",
    "    # 动态规划求解\n",
    "    for i in range(n):\n",
    "        for time in range(travel_time[i], total_minutes + 1):\n",
    "            # 在湖泊i钓鱼的时间\n",
    "            fishing_time = time - travel_time[i]\n",
    "            # 计算钓鱼收益\n",
    "            fish_count = 0\n",
    "            for t in range(0, fishing_time + 1, 5):\n",
    "                current_fish = F[i] - (t // 5) * D[i]\n",
    "                if current_fish < 0:\n",
    "                    current_fish = 0\n",
    "                fish_count += current_fish\n",
    "            # 更新dp表\n",
    "            if i == 0:\n",
    "                dp[i][time] = fish_count\n",
    "            else:\n",
    "                for prev_time in range(travel_time[i-1], time):\n",
    "                    dp[i][time] = max(dp[i][time], dp[i-1][prev_time] + fish_count)\n",
    "    \n",
    "    # 寻找最大鱼数\n",
    "    max_fishes = max(dp[n-1])\n",
    "    return max_fishes\n",
    "\n",
    "# 示例输入\n",
    "n = 3\n",
    "H = 5\n",
    "T = [0, 1, 1]  # 转换为小时为单位，需要转换为分钟\n",
    "F = [10, 15, 20]\n",
    "D = [1, 2, 3]\n",
    "\n",
    "# 计算最大鱼数\n",
    "result = max_fish(n, H, T, F, D)\n",
    "print(\"最大可钓鱼数:\", result)"
   ]
  },
  {
   "cell_type": "code",
   "execution_count": 15,
   "metadata": {},
   "outputs": [
    {
     "name": "stdout",
     "output_type": "stream",
     "text": [
      "current p[1]=1,r[0]=0\n",
      "max is  1\n",
      "--------------------inside--------------------\n",
      "r1=1\n",
      "--------------------------------------------------outside--------------------------------------------------\n",
      "current p[1]=1,r[1]=1\n",
      "max is  2\n",
      "--------------------inside--------------------\n",
      "current p[2]=5,r[1]=0\n",
      "max is  5\n",
      "--------------------inside--------------------\n",
      "r2=5\n",
      "--------------------------------------------------outside--------------------------------------------------\n",
      "current p[1]=1,r[2]=5\n",
      "max is  6\n",
      "--------------------inside--------------------\n",
      "current p[2]=5,r[2]=1\n",
      "max is  6\n",
      "--------------------inside--------------------\n",
      "current p[3]=8,r[2]=0\n",
      "max is  8\n",
      "--------------------inside--------------------\n",
      "r3=8\n",
      "--------------------------------------------------outside--------------------------------------------------\n",
      "current p[1]=1,r[3]=8\n",
      "max is  9\n",
      "--------------------inside--------------------\n",
      "current p[2]=5,r[3]=5\n",
      "max is  10\n",
      "--------------------inside--------------------\n",
      "current p[3]=8,r[3]=1\n",
      "max is  10\n",
      "--------------------inside--------------------\n",
      "current p[4]=9,r[3]=0\n",
      "max is  10\n",
      "--------------------inside--------------------\n",
      "r4=10\n",
      "--------------------------------------------------outside--------------------------------------------------\n",
      "current p[1]=1,r[4]=10\n",
      "max is  11\n",
      "--------------------inside--------------------\n",
      "current p[2]=5,r[4]=8\n",
      "max is  13\n",
      "--------------------inside--------------------\n",
      "current p[3]=8,r[4]=5\n",
      "max is  13\n",
      "--------------------inside--------------------\n",
      "current p[4]=9,r[4]=1\n",
      "max is  13\n",
      "--------------------inside--------------------\n",
      "current p[5]=10,r[4]=0\n",
      "max is  13\n",
      "--------------------inside--------------------\n",
      "r5=13\n",
      "--------------------------------------------------outside--------------------------------------------------\n"
     ]
    },
    {
     "data": {
      "text/plain": [
       "13"
      ]
     },
     "execution_count": 15,
     "metadata": {},
     "output_type": "execute_result"
    }
   ],
   "source": [
    "def bottom_up_cut_rod(p, n):\n",
    "    r = [0 for _ in range(n+1)]\n",
    "    for j in range(1, n+1):\n",
    "        q = -1\n",
    "        for i in range(1, j+1):\n",
    "            print(f\"current p[{i}]={p[i]},r[{j-1}]={r[j-i]}\")\n",
    "            q = max(q, p[i] + r[j-i])\n",
    "            print(\"max is \", q)\n",
    "            print(\"-\"*20 + \"inside\" + \"-\"*20)\n",
    "        r[j]=q\n",
    "        print(f\"r{j}={r[j]}\")\n",
    "        print(\"-\"*50 + \"outside\" + \"-\"*50)\n",
    "    return r[n]\n",
    "\n",
    "p = [0, 1, 5, 8, 9, 10, 17, 17, 20, 24, 30]\n",
    "bottom_up_cut_rod(p, 5)\n",
    "        "
   ]
  },
  {
   "cell_type": "code",
   "execution_count": null,
   "metadata": {},
   "outputs": [],
   "source": []
  }
 ],
 "metadata": {
  "kernelspec": {
   "display_name": "base",
   "language": "python",
   "name": "python3"
  },
  "language_info": {
   "codemirror_mode": {
    "name": "ipython",
    "version": 3
   },
   "file_extension": ".py",
   "mimetype": "text/x-python",
   "name": "python",
   "nbconvert_exporter": "python",
   "pygments_lexer": "ipython3",
   "version": "3.12.2"
  }
 },
 "nbformat": 4,
 "nbformat_minor": 2
}
