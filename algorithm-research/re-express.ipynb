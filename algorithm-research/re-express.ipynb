{
 "cells": [
  {
   "cell_type": "markdown",
   "metadata": {},
   "source": [
    "# 正则表达式学习\n",
    "- +: >=1\n",
    "- *: 0、1、n\n",
    "- ?: <= 1\n",
    "\n",
    "构造正则表达式的方法和创建数学表达式的方法一样。也就是用多种元字符与运算符可以将小的表达式结合在一起来创建更大的表达式"
   ]
  },
  {
   "cell_type": "markdown",
   "metadata": {},
   "source": [
    "# Python re常用模块\n",
    "1. re.search(pattern, string, flags=0)\n",
    "- re.search() 在 string 中搜索 pattern 的第一次出现，若找到则返回一个匹配对象，否则返回 None。\n",
    "- result.group() 可用于获取匹配的字符串。\n",
    "2. re.match(pattern, string, flags=0)\n",
    "- re.match() 从 string 的开头开始匹配 pattern，若匹配成功返回匹配对象，否则返回 None。\n",
    "- 区别于 re.search()，它仅在字符串开头匹配，而 re.search() 可在任意位置开始匹配。"
   ]
  },
  {
   "cell_type": "code",
   "execution_count": 3,
   "metadata": {},
   "outputs": [
    {
     "name": "stdout",
     "output_type": "stream",
     "text": [
      "hello\n"
     ]
    }
   ],
   "source": [
    "import re\n",
    "\n",
    "pattern = r\"hello\"\n",
    "string = \"hello world\"\n",
    "result = re.match(pattern, string)\n",
    "if result:\n",
    "    print(result.group())"
   ]
  },
  {
   "cell_type": "markdown",
   "metadata": {},
   "source": [
    "3. re.findall(pattern, string, flags=0)\n",
    "- re.findall() 搜索 string 中所有匹配 pattern 的子串，并以列表形式返回结果。\n",
    "- 在上述例子中，会返回 ['123', '456']，因为 [0-9]+ 匹配一个或多个数字。\n",
    "4. re.finditer(pattern, string, flags=0)\n",
    "- re.finditer() 类似于 re.findall()，但它返回一个迭代器，迭代器中的元素是匹配对象，通过 match.group() 可获取匹配的字符串"
   ]
  },
  {
   "cell_type": "code",
   "execution_count": 12,
   "metadata": {},
   "outputs": [
    {
     "name": "stdout",
     "output_type": "stream",
     "text": [
      "['123', '456']\n",
      "123\n",
      "456\n"
     ]
    }
   ],
   "source": [
    "import re\n",
    "\n",
    "pattern = r\"[0-9]+\"\n",
    "string = \"abc123def456\"\n",
    "result = re.findall(pattern, string)\n",
    "print(result)\n",
    "\n",
    "for match in re.finditer(pattern, string):\n",
    "    print(match.group())"
   ]
  },
  {
   "cell_type": "markdown",
   "metadata": {},
   "source": [
    "\n",
    "5. re.sub(pattern, repl, string, count=0, flags=0)\n",
    "- re.sub() 用 repl 替换 string 中所有匹配 pattern 的子串。"
   ]
  },
  {
   "cell_type": "code",
   "execution_count": 15,
   "metadata": {},
   "outputs": [
    {
     "name": "stdout",
     "output_type": "stream",
     "text": [
      "abc!!def!!\n"
     ]
    }
   ],
   "source": [
    "import re\n",
    "\n",
    "pattern = r\"[0-9]+\"\n",
    "string = \"abc123def456\"\n",
    "new_string = re.sub(pattern, \"!!\",  string)\n",
    "print(new_string)"
   ]
  },
  {
   "cell_type": "markdown",
   "metadata": {},
   "source": [
    "6. re.split(pattern, string, maxsplit=0, flags=0)\n",
    "- re.split() 按照 pattern 将 string 分割成多个子串，并以列表形式返回。\n",
    "- example: 将字符串按数字分割，结果为 ['abc', 'def', '']"
   ]
  },
  {
   "cell_type": "code",
   "execution_count": 16,
   "metadata": {},
   "outputs": [
    {
     "name": "stdout",
     "output_type": "stream",
     "text": [
      "['abc', 'def', '']\n"
     ]
    }
   ],
   "source": [
    "import re\n",
    "\n",
    "pattern = r\"[0-9]+\"\n",
    "string = \"abc123def456\"\n",
    "result = re.split(pattern, string)\n",
    "print(result)"
   ]
  }
 ],
 "metadata": {
  "kernelspec": {
   "display_name": "cityu",
   "language": "python",
   "name": "python3"
  },
  "language_info": {
   "codemirror_mode": {
    "name": "ipython",
    "version": 3
   },
   "file_extension": ".py",
   "mimetype": "text/x-python",
   "name": "python",
   "nbconvert_exporter": "python",
   "pygments_lexer": "ipython3",
   "version": "3.12.4"
  }
 },
 "nbformat": 4,
 "nbformat_minor": 2
}
