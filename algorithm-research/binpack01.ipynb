{
 "cells": [
  {
   "cell_type": "markdown",
   "metadata": {},
   "source": [
    "### 01背包问题\n",
    "有一个背包，它的容量为W。现在有n个物品，每个物品有重量$w[i]$和价值$v[i]$。\n",
    "要求在不超过背包容量的前提下，选择一些物品放入背包，使得放入背包中的物品总价值最大。每个物品只能选择一次（0 - 1 表示不选或者选）。\n",
    "1.\t状态定义：\n",
    "- 定义一个二维数组 dp[i][j]，表示在前 i 个物品中，背包容量为 j 时所能得到的最大价值。\n",
    "2.\t状态转移方程：\n",
    "- 当不选第 i 个物品时： $dp[i][j]=dp[i-1][j]$\n",
    "- 当选第 i 个物品时： $dp[i][j]=dp[i-1][j-w_i]+v_i$，前提是 $j>=w_i$\n",
    "- 因此，状态转移方程为：\n",
    "    $dp[i][j] = \\max(dp[i-1][j], \\  \\  dp[i-1][j-w_i] + v_i)$\n",
    "\n",
    "3.\t初始条件：\n",
    "- 当没有物品时，背包的最大价值为 0： $dp[0][j] = 0$，对于任意 j。\n",
    "- 当背包容量为 0 时，无论有多少物品，最大价值也是 0：$dp[i][0] = 0$，对于任意 i。\n",
    "4.\t最终结果：\n",
    "- 计算出 $dp[N][C]$ 即为最终答案，表示前 N 个物品在背包容量为 C 时的最大价值。"
   ]
  },
  {
   "cell_type": "code",
   "execution_count": 17,
   "metadata": {},
   "outputs": [
    {
     "name": "stdout",
     "output_type": "stream",
     "text": [
      "初始化dp:\n",
      " [[0, 0, 0, 0, 0, 0], [0, 0, 0, 0, 0, 0], [0, 0, 0, 0, 0, 0], [0, 0, 0, 0, 0, 0], [0, 0, 0, 0, 0, 0]]\n",
      "[[0, 0, 0, 0, 0, 0], [0, 1, 1, 1, 1, 1], [0, 1, 6, 7, 7, 7], [0, 1, 6, 10, 11, 16], [0, 1, 6, 10, 16, 17]]\n",
      "最大价值是: 17\n"
     ]
    }
   ],
   "source": [
    "def knapsack_01(weights, values, capacity):\n",
    "    n = len(weights)\n",
    "    dp = [[0] * (capacity + 1) for _ in range(n + 1)]\n",
    "    print(\"初始化dp:\\n\", dp)\n",
    "\n",
    "    for i in range(1, n + 1):\n",
    "        for j in range(1, capacity + 1):\n",
    "            if j >= weights[i - 1]:\n",
    "                dp[i][j] = max(dp[i - 1][j], dp[i - 1][j - weights[i - 1]] + values[i - 1])\n",
    "            else:\n",
    "                dp[i][j] = dp[i - 1][j]\n",
    "    print(dp)\n",
    "    return dp[n][capacity]\n",
    "\n",
    "# 示例\n",
    "weights = [1, 2, 3, 4]  # 每个物品的重量\n",
    "values = [1, 6, 10, 16]   # 每个物品的价值\n",
    "capacity = 5            # 背包容量\n",
    "max_value = knapsack_01(weights, values, capacity)\n",
    "print(f\"最大价值是: {max_value}\")"
   ]
  },
  {
   "cell_type": "code",
   "execution_count": 7,
   "metadata": {},
   "outputs": [
    {
     "data": {
      "text/html": [
       "<style type=\"text/css\">\n",
       "#T_3188b thead th {\n",
       "  background-color: green;\n",
       "}\n",
       "#T_3188b tbody th {\n",
       "  background-color: green;\n",
       "}\n",
       "</style>\n",
       "<table id=\"T_3188b\">\n",
       "  <thead>\n",
       "    <tr>\n",
       "      <th class=\"blank level0\" >&nbsp;</th>\n",
       "      <th id=\"T_3188b_level0_col0\" class=\"col_heading level0 col0\" >0</th>\n",
       "      <th id=\"T_3188b_level0_col1\" class=\"col_heading level0 col1\" >1</th>\n",
       "      <th id=\"T_3188b_level0_col2\" class=\"col_heading level0 col2\" >2</th>\n",
       "      <th id=\"T_3188b_level0_col3\" class=\"col_heading level0 col3\" >3</th>\n",
       "      <th id=\"T_3188b_level0_col4\" class=\"col_heading level0 col4\" >4</th>\n",
       "      <th id=\"T_3188b_level0_col5\" class=\"col_heading level0 col5\" >5</th>\n",
       "    </tr>\n",
       "  </thead>\n",
       "  <tbody>\n",
       "    <tr>\n",
       "      <th id=\"T_3188b_level0_row0\" class=\"row_heading level0 row0\" >0</th>\n",
       "      <td id=\"T_3188b_row0_col0\" class=\"data row0 col0\" >Value: 0, List: []</td>\n",
       "      <td id=\"T_3188b_row0_col1\" class=\"data row0 col1\" >Value: 0, List: []</td>\n",
       "      <td id=\"T_3188b_row0_col2\" class=\"data row0 col2\" >Value: 0, List: []</td>\n",
       "      <td id=\"T_3188b_row0_col3\" class=\"data row0 col3\" >Value: 0, List: []</td>\n",
       "      <td id=\"T_3188b_row0_col4\" class=\"data row0 col4\" >Value: 0, List: []</td>\n",
       "      <td id=\"T_3188b_row0_col5\" class=\"data row0 col5\" >Value: 0, List: []</td>\n",
       "    </tr>\n",
       "    <tr>\n",
       "      <th id=\"T_3188b_level0_row1\" class=\"row_heading level0 row1\" >1</th>\n",
       "      <td id=\"T_3188b_row1_col0\" class=\"data row1 col0\" >Value: 0, List: []</td>\n",
       "      <td id=\"T_3188b_row1_col1\" class=\"data row1 col1\" >Value: 1, List: [0]</td>\n",
       "      <td id=\"T_3188b_row1_col2\" class=\"data row1 col2\" >Value: 1, List: [0]</td>\n",
       "      <td id=\"T_3188b_row1_col3\" class=\"data row1 col3\" >Value: 1, List: [0]</td>\n",
       "      <td id=\"T_3188b_row1_col4\" class=\"data row1 col4\" >Value: 1, List: [0]</td>\n",
       "      <td id=\"T_3188b_row1_col5\" class=\"data row1 col5\" >Value: 1, List: [0]</td>\n",
       "    </tr>\n",
       "    <tr>\n",
       "      <th id=\"T_3188b_level0_row2\" class=\"row_heading level0 row2\" >2</th>\n",
       "      <td id=\"T_3188b_row2_col0\" class=\"data row2 col0\" >Value: 0, List: []</td>\n",
       "      <td id=\"T_3188b_row2_col1\" class=\"data row2 col1\" >Value: 1, List: [0]</td>\n",
       "      <td id=\"T_3188b_row2_col2\" class=\"data row2 col2\" >Value: 6, List: [1]</td>\n",
       "      <td id=\"T_3188b_row2_col3\" class=\"data row2 col3\" >Value: 7, List: [0, 1]</td>\n",
       "      <td id=\"T_3188b_row2_col4\" class=\"data row2 col4\" >Value: 7, List: [0, 1]</td>\n",
       "      <td id=\"T_3188b_row2_col5\" class=\"data row2 col5\" >Value: 7, List: [0, 1]</td>\n",
       "    </tr>\n",
       "    <tr>\n",
       "      <th id=\"T_3188b_level0_row3\" class=\"row_heading level0 row3\" >3</th>\n",
       "      <td id=\"T_3188b_row3_col0\" class=\"data row3 col0\" >Value: 0, List: []</td>\n",
       "      <td id=\"T_3188b_row3_col1\" class=\"data row3 col1\" >Value: 1, List: [0]</td>\n",
       "      <td id=\"T_3188b_row3_col2\" class=\"data row3 col2\" >Value: 6, List: [1]</td>\n",
       "      <td id=\"T_3188b_row3_col3\" class=\"data row3 col3\" >Value: 10, List: [2]</td>\n",
       "      <td id=\"T_3188b_row3_col4\" class=\"data row3 col4\" >Value: 11, List: [0, 2]</td>\n",
       "      <td id=\"T_3188b_row3_col5\" class=\"data row3 col5\" >Value: 16, List: [1, 2]</td>\n",
       "    </tr>\n",
       "    <tr>\n",
       "      <th id=\"T_3188b_level0_row4\" class=\"row_heading level0 row4\" >4</th>\n",
       "      <td id=\"T_3188b_row4_col0\" class=\"data row4 col0\" >Value: 0, List: []</td>\n",
       "      <td id=\"T_3188b_row4_col1\" class=\"data row4 col1\" >Value: 1, List: [0]</td>\n",
       "      <td id=\"T_3188b_row4_col2\" class=\"data row4 col2\" >Value: 6, List: [1]</td>\n",
       "      <td id=\"T_3188b_row4_col3\" class=\"data row4 col3\" >Value: 10, List: [2]</td>\n",
       "      <td id=\"T_3188b_row4_col4\" class=\"data row4 col4\" >Value: 16, List: [3]</td>\n",
       "      <td id=\"T_3188b_row4_col5\" class=\"data row4 col5\" >Value: 17, List: [0, 3]</td>\n",
       "    </tr>\n",
       "  </tbody>\n",
       "</table>\n"
      ],
      "text/plain": [
       "<pandas.io.formats.style.Styler at 0x3149aae70>"
      ]
     },
     "metadata": {},
     "output_type": "display_data"
    }
   ],
   "source": [
    "from IPython.display import display\n",
    "import pandas as pd\n",
    "\n",
    "\n",
    "class KnapsackItem:\n",
    "    def __init__(self, value, item_list):\n",
    "        self.value = value\n",
    "        self.item_list = item_list\n",
    "\n",
    "\n",
    "def knapsack_01(items, capacity):\n",
    "    n = len(items)\n",
    "    dp = [[KnapsackItem(0, []) for _ in range(capacity + 1)] for _ in range(n + 1)]\n",
    "    for i in range(1, n + 1):\n",
    "        weight, value = items[i - 1]\n",
    "        for j in range(1, capacity + 1):\n",
    "            if j >= weight:\n",
    "                if dp[i - 1][j].value > dp[i - 1][j - weight].value + value:\n",
    "                    dp[i][j] = dp[i - 1][j]\n",
    "                else:\n",
    "                    new_item_list = dp[i - 1][j - weight].item_list.copy()\n",
    "                    new_item_list.append(i - 1)\n",
    "                    dp[i][j] = KnapsackItem(dp[i - 1][j - weight].value + value, new_item_list)\n",
    "            else:\n",
    "                dp[i][j] = dp[i - 1][j]\n",
    "    return dp\n",
    "\n",
    "#(weight, value)\n",
    "items = [(1, 1), (2, 6), (3, 10), (4, 16)]\n",
    "dp = knapsack_01(items, 5)\n",
    "df_data = [[f\"Value: {item.value}, List: {item.item_list}\" for item in row] for row in dp]\n",
    "df = pd.DataFrame(df_data)\n",
    "styled_df = df.style.set_table_styles([\n",
    "    {'selector': 'thead th', 'props': [('background-color', 'green')]},\n",
    "    {'selector': 'tbody th', 'props': [('background-color', 'green')]}\n",
    "])\n",
    "display(styled_df)"
   ]
  },
  {
   "cell_type": "code",
   "execution_count": 65,
   "metadata": {},
   "outputs": [
    {
     "name": "stdout",
     "output_type": "stream",
     "text": [
      "Total value: 17\n",
      "Selected items:\n",
      "Weight: 4, Value: 16\n",
      "Weight: 1, Value: 1\n"
     ]
    }
   ],
   "source": [
    "class Item:\n",
    "    def __init__(self, weight, value):\n",
    "        self.weight = weight\n",
    "        self.value = value\n",
    "        self.value_per_weight = value / weight\n",
    "\n",
    "def greedy_knapsack(capacity, items):\n",
    "    sorted_items = sorted(items, key=lambda item: item.value_per_weight, reverse=True)\n",
    "    total_value = 0\n",
    "    selected_items = []\n",
    "    remaining_capacity = capacity\n",
    "    for item in sorted_items:\n",
    "        if item.weight <= remaining_capacity:\n",
    "            total_value += item.value\n",
    "            selected_items.append(item)\n",
    "            remaining_capacity -= item.weight\n",
    "    return total_value, selected_items\n",
    "\n",
    "items = [Item(1, 1), Item(2, 6), Item(3, 10), Item(4, 16)]\n",
    "capacity = 5\n",
    "total_value, selected_items = greedy_knapsack(capacity, items)\n",
    "print(f\"Total value: {total_value}\")\n",
    "print(\"Selected items:\")\n",
    "for item in selected_items:\n",
    "    print(f\"Weight: {item.weight}, Value: {item.value}\")"
   ]
  },
  {
   "cell_type": "markdown",
   "metadata": {},
   "source": [
    "贪心算法在01背包问题中通常基于价值密度（单位重量的价值）来选择物品。具体步骤如下：\n",
    "\n",
    "1.\t计算价值密度：对于每件物品，计算  $\\text{density}[i] = \\frac{v[i]}{w[i]} $。\n",
    "2.\t排序：按照价值密度从高到低对物品排序。\n",
    "3.\t选择物品：按照排序的顺序，选择物品放入背包，直到背包容量无法再放下更多的物品。"
   ]
  },
  {
   "cell_type": "code",
   "execution_count": 4,
   "metadata": {},
   "outputs": [
    {
     "name": "stdout",
     "output_type": "stream",
     "text": [
      "[(6.0, 10, 60, 0), (5.0, 20, 100, 1), (4.0, 30, 120, 2)]\n",
      "最大价值: 160\n",
      "选择的物品: [1, 2]\n"
     ]
    }
   ],
   "source": [
    "def knapsack_greedy(weights, values, capacity):\n",
    "    # 计算价值密度并存储索引\n",
    "    items = [(values[i] / weights[i], weights[i], values[i], i) for i in range(len(weights))]\n",
    "    print(items)\n",
    "    # 按价值密度降序排序\n",
    "    items.sort(reverse=True, key=lambda x: x[0])\n",
    "    \n",
    "    total_value = 0\n",
    "    chosen_items = []\n",
    "    \n",
    "    # 选择物品\n",
    "    for density, weight, value, index in items:\n",
    "        if capacity >= weight:\n",
    "            capacity -= weight\n",
    "            total_value += value\n",
    "            chosen_items.append(index + 1)  # 存储选中的物品索引，+1是因为人们习惯从1开始计数\n",
    "        if capacity == 0:\n",
    "            break\n",
    "    \n",
    "    return total_value, chosen_items\n",
    "\n",
    "# 物品的重量和价值\n",
    "weights = [10, 20, 30]\n",
    "values = [60, 100, 120]\n",
    "capacity = 50\n",
    "\n",
    "# 调用贪心算法\n",
    "max_value, items_chosen = knapsack_greedy(weights, values, capacity)\n",
    "print(\"最大价值:\", max_value)\n",
    "print(\"选择的物品:\", items_chosen)"
   ]
  },
  {
   "cell_type": "code",
   "execution_count": 9,
   "metadata": {},
   "outputs": [
    {
     "name": "stdout",
     "output_type": "stream",
     "text": [
      "33\n",
      "最优子集的索引： [3, 2, 1, 0]\n"
     ]
    }
   ],
   "source": [
    "def knapsack_dynamic_programming(vals, costs, B):\n",
    "    n = len(vals)\n",
    "    V_star = max(vals)\n",
    "    # 创建一个二维数组来存储中间结果\n",
    "    S = [[-1]*(n*V_star + 1) for _ in range(n + 1)]\n",
    "    # 初始化 S[1,p]\n",
    "    for p in range(n*V_star + 1):\n",
    "        if p == vals[0]:\n",
    "            S[1][p] = [0]\n",
    "        else:\n",
    "            S[1][p] = -1\n",
    "    # 动态规划填充 S[i,p]\n",
    "    for i in range(1, n + 1):\n",
    "        for p in range(n*V_star + 1):\n",
    "            if i > 1:\n",
    "                if vals[i - 1] <= p and S[i - 1][p - vals[i - 1]]!= -1:\n",
    "                    option1 = costs[S[i - 1][p][0]] if S[i - 1][p]!= -1 else float('inf')\n",
    "                    option2 = costs[i - 1] + costs[S[i - 1][p - vals[i - 1]][0]] if S[i - 1][p - vals[i - 1]]!= -1 else float('inf')\n",
    "                    if option1 < option2:\n",
    "                        S[i][p] = S[i - 1][p]\n",
    "                    else:\n",
    "                        S[i][p] = [i - 1] + S[i - 1][p - vals[i - 1]]\n",
    "                else:\n",
    "                    S[i][p] = S[i - 1][p]\n",
    "    # 找到最优解\n",
    "    max_value = 0\n",
    "    optimal_subset = None\n",
    "    for p in range(n*V_star + 1):\n",
    "        if S[n][p]!= -1 and costs[S[n][p][0]] <= B:\n",
    "            total_value = sum([vals[idx] for idx in S[n][p]])\n",
    "            if total_value > max_value:\n",
    "                max_value = total_value\n",
    "                optimal_subset = S[n][p]\n",
    "    return max_value, optimal_subset\n",
    "\n",
    "# 示例用法\n",
    "\n",
    "#items = [(1, 1), (2, 6), (3, 10), (4, 16)]\n",
    "\n",
    "values = [1, 6, 10, 16]\n",
    "costs = [1, 2, 3, 4]\n",
    "capacity = 5\n",
    "v, subset = knapsack_dynamic_programming(values, costs, capacity)\n",
    "print(v)\n",
    "print(\"最优子集的索引：\", subset)"
   ]
  },
  {
   "cell_type": "code",
   "execution_count": null,
   "metadata": {},
   "outputs": [],
   "source": []
  }
 ],
 "metadata": {
  "kernelspec": {
   "display_name": "base",
   "language": "python",
   "name": "python3"
  },
  "language_info": {
   "codemirror_mode": {
    "name": "ipython",
    "version": 3
   },
   "file_extension": ".py",
   "mimetype": "text/x-python",
   "name": "python",
   "nbconvert_exporter": "python",
   "pygments_lexer": "ipython3",
   "version": "3.12.2"
  }
 },
 "nbformat": 4,
 "nbformat_minor": 2
}
