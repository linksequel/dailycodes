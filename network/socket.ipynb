{
 "cells": [
  {
   "cell_type": "markdown",
   "metadata": {},
   "source": [
    "# socket编程\n",
    "https://www.youtube.com/watch?v=3QiPPX-KeSc"
   ]
  },
  {
   "cell_type": "code",
   "execution_count": null,
   "metadata": {},
   "outputs": [
    {
     "name": "stdout",
     "output_type": "stream",
     "text": [
      "9527\n",
      "localhost\n",
      "thread start\n",
      "listening on localhost\n"
     ]
    },
    {
     "ename": "KeyboardInterrupt",
     "evalue": "",
     "output_type": "error",
     "traceback": [
      "\u001b[0;31m---------------------------------------------------------------------------\u001b[0m",
      "\u001b[0;31mKeyboardInterrupt\u001b[0m                         Traceback (most recent call last)",
      "Cell \u001b[0;32mIn[1], line 42\u001b[0m\n\u001b[1;32m     39\u001b[0m         \u001b[38;5;28mprint\u001b[39m(\u001b[38;5;124mf\u001b[39m\u001b[38;5;124m\"\u001b[39m\u001b[38;5;124mactive connections \u001b[39m\u001b[38;5;132;01m{\u001b[39;00mthreading\u001b[38;5;241m.\u001b[39mactiveCount()\u001b[38;5;250m \u001b[39m\u001b[38;5;241m-\u001b[39m\u001b[38;5;250m \u001b[39m\u001b[38;5;241m1\u001b[39m\u001b[38;5;132;01m}\u001b[39;00m\u001b[38;5;124m\"\u001b[39m)\n\u001b[1;32m     41\u001b[0m \u001b[38;5;28mprint\u001b[39m(\u001b[38;5;124m\"\u001b[39m\u001b[38;5;124mthread start\u001b[39m\u001b[38;5;124m\"\u001b[39m)\n\u001b[0;32m---> 42\u001b[0m start()\n",
      "Cell \u001b[0;32mIn[1], line 36\u001b[0m, in \u001b[0;36mstart\u001b[0;34m()\u001b[0m\n\u001b[1;32m     34\u001b[0m \u001b[38;5;28mprint\u001b[39m(\u001b[38;5;124mf\u001b[39m\u001b[38;5;124m\"\u001b[39m\u001b[38;5;124mlistening on \u001b[39m\u001b[38;5;132;01m{\u001b[39;00mSERVER\u001b[38;5;132;01m}\u001b[39;00m\u001b[38;5;124m\"\u001b[39m)\n\u001b[1;32m     35\u001b[0m \u001b[38;5;28;01mwhile\u001b[39;00m \u001b[38;5;28;01mTrue\u001b[39;00m:\n\u001b[0;32m---> 36\u001b[0m     conna, addr \u001b[38;5;241m=\u001b[39m server\u001b[38;5;241m.\u001b[39maccept()\n\u001b[1;32m     37\u001b[0m     thread \u001b[38;5;241m=\u001b[39m threading\u001b[38;5;241m.\u001b[39mThread(target\u001b[38;5;241m=\u001b[39mhandle_client, args\u001b[38;5;241m=\u001b[39m(conna, addr))\n\u001b[1;32m     38\u001b[0m     thread\u001b[38;5;241m.\u001b[39mstart()\n",
      "File \u001b[0;32m/opt/anaconda3/lib/python3.12/socket.py:295\u001b[0m, in \u001b[0;36msocket.accept\u001b[0;34m(self)\u001b[0m\n\u001b[1;32m    288\u001b[0m \u001b[38;5;28;01mdef\u001b[39;00m \u001b[38;5;21maccept\u001b[39m(\u001b[38;5;28mself\u001b[39m):\n\u001b[1;32m    289\u001b[0m \u001b[38;5;250m    \u001b[39m\u001b[38;5;124;03m\"\"\"accept() -> (socket object, address info)\u001b[39;00m\n\u001b[1;32m    290\u001b[0m \n\u001b[1;32m    291\u001b[0m \u001b[38;5;124;03m    Wait for an incoming connection.  Return a new socket\u001b[39;00m\n\u001b[1;32m    292\u001b[0m \u001b[38;5;124;03m    representing the connection, and the address of the client.\u001b[39;00m\n\u001b[1;32m    293\u001b[0m \u001b[38;5;124;03m    For IP sockets, the address info is a pair (hostaddr, port).\u001b[39;00m\n\u001b[1;32m    294\u001b[0m \u001b[38;5;124;03m    \"\"\"\u001b[39;00m\n\u001b[0;32m--> 295\u001b[0m     fd, addr \u001b[38;5;241m=\u001b[39m \u001b[38;5;28mself\u001b[39m\u001b[38;5;241m.\u001b[39m_accept()\n\u001b[1;32m    296\u001b[0m     sock \u001b[38;5;241m=\u001b[39m socket(\u001b[38;5;28mself\u001b[39m\u001b[38;5;241m.\u001b[39mfamily, \u001b[38;5;28mself\u001b[39m\u001b[38;5;241m.\u001b[39mtype, \u001b[38;5;28mself\u001b[39m\u001b[38;5;241m.\u001b[39mproto, fileno\u001b[38;5;241m=\u001b[39mfd)\n\u001b[1;32m    297\u001b[0m     \u001b[38;5;66;03m# Issue #7995: if no default timeout is set and the listening\u001b[39;00m\n\u001b[1;32m    298\u001b[0m     \u001b[38;5;66;03m# socket had a (non-zero) timeout, force the new socket in blocking\u001b[39;00m\n\u001b[1;32m    299\u001b[0m     \u001b[38;5;66;03m# mode to override platform-specific socket flags inheritance.\u001b[39;00m\n",
      "\u001b[0;31mKeyboardInterrupt\u001b[0m: "
     ]
    },
    {
     "ename": "",
     "evalue": "",
     "output_type": "error",
     "traceback": [
      "\u001b[1;31mThe Kernel crashed while executing code in the current cell or a previous cell. \n",
      "\u001b[1;31mPlease review the code in the cell(s) to identify a possible cause of the failure. \n",
      "\u001b[1;31mClick <a href='https://aka.ms/vscodeJupyterKernelCrash'>here</a> for more info. \n",
      "\u001b[1;31mView Jupyter <a href='command:jupyter.viewOutput'>log</a> for further details."
     ]
    }
   ],
   "source": [
    "import socket\n",
    "import threading\n",
    "\n",
    "PORT = 5050\n",
    "print(socket.gethostname())\n",
    "SERVER = \"localhost\"\n",
    "print(SERVER)\n",
    "ADDR = (SERVER, PORT)\n",
    "HEADER = 64\n",
    "FOTMAT = 'utf-8'\n",
    "DISCONNTCT_MESSAG = \"!DISCONNENT\"\n",
    "\n",
    "server = socket.socket(socket.AF_INET, socket.SOCK_STREA M)\n",
    "server.bind(ADDR)\n",
    "\n",
    "def handle_client(conn, addr): \n",
    "    print(\"new connection {addr} connected\")\n",
    "    connected = True\n",
    "    while connected:\n",
    "        #blocking\n",
    "        if  not msg_length:\n",
    "            continue\n",
    "        msg_length = conn.recv(HEADER).decode(FOTMAT)\n",
    "        msg_length = int(msg_length)\n",
    "        msg = conn.resv(msg_length).decode(FOTMAT)\n",
    "        if msg == DISCONNTCT_MESSAG:\n",
    "            connected = False\n",
    "        print(f\"[{addr}] {msg}\")\n",
    "    conn.close()\n",
    "\n",
    "\n",
    "def start():\n",
    "    server.listen()\n",
    "    print(f\"listening on {SERVER}\")\n",
    "    while True:\n",
    "        conna, addr = server.accept()\n",
    "        thread = threading.Thread(target=handle_client, args=(conna, addr))\n",
    "        thread.start()\n",
    "        print(f\"active connections {threading.activeCount() - 1}\")\n",
    "\n",
    "print(\"thread start\")\n",
    "start()"
   ]
  },
  {
   "cell_type": "code",
   "execution_count": 3,
   "metadata": {},
   "outputs": [
    {
     "name": "stdout",
     "output_type": "stream",
     "text": [
      "中文\n",
      "中文\n"
     ]
    }
   ],
   "source": [
    "byte_obj = b'\\xe4\\xb8\\xad\\xe6\\x96\\x87'\n",
    "str_obj = str(byte_obj, encoding='utf - 8')\n",
    "decode = byte_obj.decode('utf-8')\n",
    "print(str_obj)\n",
    "print(decode)"
   ]
  },
  {
   "cell_type": "code",
   "execution_count": null,
   "metadata": {},
   "outputs": [],
   "source": []
  }
 ],
 "metadata": {
  "kernelspec": {
   "display_name": "base",
   "language": "python",
   "name": "python3"
  },
  "language_info": {
   "codemirror_mode": {
    "name": "ipython",
    "version": 3
   },
   "file_extension": ".py",
   "mimetype": "text/x-python",
   "name": "python",
   "nbconvert_exporter": "python",
   "pygments_lexer": "ipython3",
   "version": "3.12.2"
  }
 },
 "nbformat": 4,
 "nbformat_minor": 2
}
